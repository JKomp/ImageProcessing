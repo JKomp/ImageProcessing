{
 "cells": [
  {
   "cell_type": "code",
   "execution_count": 13,
   "metadata": {},
   "outputs": [
    {
     "name": "stdout",
     "output_type": "stream",
     "text": [
      "Testing IO for point cloud ...\n",
      "geometry::PointCloud with 113662 points.\n",
      "(113662, 3)\n"
     ]
    }
   ],
   "source": [
    "import open3d as o3d\n",
    "import numpy as np\n",
    "from open3d import JVisualizer\n",
    "\n",
    "print(\"Testing IO for point cloud ...\")\n",
    "pcd = o3d.io.read_point_cloud(\"fragment.pcd\")\n",
    "# pcd = o3d.io.read_point_cloud(\"test.pcd\")\n",
    "print(pcd)\n",
    "o3d.io.write_point_cloud(\"copy_of_fragment.pcd\", pcd)\n",
    "\n",
    "print(np.asarray(pcd.points).shape)\n"
   ]
  },
  {
   "cell_type": "code",
   "execution_count": 8,
   "metadata": {},
   "outputs": [
    {
     "name": "stdout",
     "output_type": "stream",
     "text": [
      "Testing IO for meshes ...\n",
      "geometry::TriangleMesh with 1440 points and 2880 triangles.\n"
     ]
    },
    {
     "data": {
      "text/plain": [
       "True"
      ]
     },
     "execution_count": 8,
     "metadata": {},
     "output_type": "execute_result"
    }
   ],
   "source": [
    "\n",
    "print(\"Testing IO for meshes ...\")\n",
    "mesh = o3d.io.read_triangle_mesh(\"knot.ply\")\n",
    "print(mesh)\n",
    "o3d.io.write_triangle_mesh(\"copy_of_knot.ply\", mesh)\n"
   ]
  },
  {
   "cell_type": "code",
   "execution_count": 14,
   "metadata": {},
   "outputs": [
    {
     "data": {
      "application/vnd.jupyter.widget-view+json": {
       "model_id": "bc8f28944bfa4319b32dcc3b95a9c08c",
       "version_major": 2,
       "version_minor": 0
      },
      "text/plain": [
       "JVisualizer with 1 geometries"
      ]
     },
     "metadata": {},
     "output_type": "display_data"
    }
   ],
   "source": [
    "visualizer = JVisualizer()\n",
    "visualizer.add_geometry(pcd)\n",
    "visualizer.show()\n"
   ]
  },
  {
   "cell_type": "code",
   "execution_count": 15,
   "metadata": {},
   "outputs": [
    {
     "data": {
      "application/vnd.jupyter.widget-view+json": {
       "model_id": "ecf7e43df187443aa423f176dfbacf9a",
       "version_major": 2,
       "version_minor": 0
      },
      "text/plain": [
       "JVisualizer with 1 geometries"
      ]
     },
     "metadata": {},
     "output_type": "display_data"
    }
   ],
   "source": [
    "pts_path = \"fragment.pcd\"\n",
    "fragment = o3d.read_point_cloud(pts_path)\n",
    "visualizer = JVisualizer()\n",
    "visualizer.add_geometry(fragment)\n",
    "visualizer.show()\n"
   ]
  }
 ],
 "metadata": {
  "kernelspec": {
   "display_name": "Python 3",
   "language": "python",
   "name": "python3"
  },
  "language_info": {
   "codemirror_mode": {
    "name": "ipython",
    "version": 3
   },
   "file_extension": ".py",
   "mimetype": "text/x-python",
   "name": "python",
   "nbconvert_exporter": "python",
   "pygments_lexer": "ipython3",
   "version": "3.7.9"
  }
 },
 "nbformat": 4,
 "nbformat_minor": 4
}

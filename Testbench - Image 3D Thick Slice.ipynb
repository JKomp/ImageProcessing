{
 "cells": [
  {
   "cell_type": "markdown",
   "metadata": {},
   "source": [
    "This code is based on:\n",
    "\n",
    "https://medium.com/@taposhdr/medical-image-analysis-with-deep-learning-i-23d518abf531\n"
   ]
  },
  {
   "cell_type": "code",
   "execution_count": null,
   "metadata": {},
   "outputs": [],
   "source": [
    "import numpy as np\n",
    "import cv2\n",
    "import matplotlib.pyplot as plt\n",
    "import matplotlib.colors as colors\n",
    "import pydicom as pdicom\n",
    "import os\n",
    "import copy\n",
    "import scipy.ndimage\n",
    "import skimage.filters as skiFilt\n",
    "from mpl_toolkits.axes_grid1 import ImageGrid\n",
    "import time\n",
    "from importlib import reload\n",
    "\n",
    "from skimage.measure import label,regionprops, perimeter\n",
    "from skimage.morphology import disk, dilation, remove_small_objects, erosion, closing, reconstruction, binary_closing\n",
    "\n",
    "import frangix\n",
    "\n",
    "reload(frangix)\n",
    "\n",
    "%matplotlib inline"
   ]
  },
  {
   "cell_type": "markdown",
   "metadata": {},
   "source": [
    "### Helper printing functions\n",
    "\n",
    "`plti` - plots the provided image.  \n",
    "`sample_stack` - plots every x slice of a 3D image stack  \n",
    "`pltm` - creates a simple two column grid of the provided images  \n",
    "`pltHist` - prints a histogram from the provided image or stack. Defaults to labeling as Hounsfield units"
   ]
  },
  {
   "cell_type": "code",
   "execution_count": null,
   "metadata": {},
   "outputs": [],
   "source": [
    "cmap = colors.ListedColormap(['black','white', 'green', 'red', 'blue', 'orange'])"
   ]
  },
  {
   "cell_type": "code",
   "execution_count": null,
   "metadata": {},
   "outputs": [],
   "source": [
    "def plti(im, h=8, title='',cmap='gray',**kwargs):\n",
    "    y = im.shape[0]\n",
    "    x = im.shape[1]\n",
    "    w = (y/x) * h\n",
    "    plt.figure(figsize=(w,h))\n",
    "    plt.imshow(im, interpolation=\"none\",cmap=cmap, **kwargs)\n",
    "    plt.axis('off')\n",
    "    plt.title(title)\n",
    "    "
   ]
  },
  {
   "cell_type": "code",
   "execution_count": null,
   "metadata": {},
   "outputs": [],
   "source": [
    "def sample_stack(stack, rows=6, cols=6, start_with=10, show_every=3, size=12,cmap='gray'):\n",
    "    fig,ax = plt.subplots(rows,cols,figsize=[size,size])\n",
    "    for i in range(rows*cols):\n",
    "        ind = start_with + i*show_every\n",
    "        if ind < stack.shape[2]:\n",
    "            ax[int(i/cols),int(i % cols)].set_title('slice %d' % ind)\n",
    "            ax[int(i/cols),int(i % cols)].imshow(stack[:,:,ind],cmap)\n",
    "            ax[int(i/cols),int(i % cols)].axis('off')\n",
    "    plt.show()"
   ]
  },
  {
   "cell_type": "code",
   "execution_count": null,
   "metadata": {},
   "outputs": [],
   "source": [
    "def pltm(images,h=8,titles=[],cmap='gray'):\n",
    "    \n",
    "    imNum = len(images)\n",
    "    imX   = (imNum+1)//2\n",
    "    \n",
    "    y = images[1].shape[0]\n",
    "    x = images[1].shape[1]\n",
    "    w = (y/x) * h\n",
    "    \n",
    "    fig = plt.figure(figsize=(w,h))\n",
    "    grid = ImageGrid(fig, 111,             # similar to subplot(111)\n",
    "                     nrows_ncols=(imX, 2), # creates 2x2 grid of axes\n",
    "                     axes_pad=0.25,           # pad between axes in inch.\n",
    "                     )\n",
    "\n",
    "    for i in range(imNum):\n",
    "        grid[i].imshow(images[i],cmap=cmap)  # The AxesGrid object work as a list of axes.\n",
    "        grid[i].axis('off')\n",
    "        grid[i].set_xticks([])\n",
    "        grid[i].set_yticks([])\n",
    "        if len(titles) > i :\n",
    "            grid[i].set_title(titles[i])  \n",
    "            \n",
    "    plt.show()"
   ]
  },
  {
   "cell_type": "code",
   "execution_count": null,
   "metadata": {},
   "outputs": [],
   "source": [
    "def pltHist(image, bins=50,xlabel=\"Hounsfield Units (HU)\",ylabel=\"Frequency\", color='c'):\n",
    "\n",
    "    plt.hist(image.flatten(), bins=bins, color=color)\n",
    "    plt.xlabel(xlabel)\n",
    "    plt.ylabel(ylabel)\n",
    "    plt.show()\n"
   ]
  },
  {
   "cell_type": "markdown",
   "metadata": {},
   "source": [
    "### Datafile Reading\n",
    "\n",
    "This section provides the functions to read in the provided. These routines do the following:  \n",
    "* Get a list of all the dicom (.dcm) files in the input directory\n",
    "* Read the dicom header off the first file and save the dimensions and space\n",
    "* Generate a matrix of each pixel's distance from 0, 0, 0 based in the dimensions and space obtained from the header\n",
    "* Read the dicom files (one slice to a file)"
   ]
  },
  {
   "cell_type": "code",
   "execution_count": null,
   "metadata": {},
   "outputs": [],
   "source": [
    "# INPUT_FOLDER = '/Users/john/Programming/Work/AnnotatedScans/Pat1068Padded'\n",
    "INPUT_FOLDER = '/Users/john/Programming/Work/Medtronic Samples/Pat002'\n",
    "# INPUT_FOLDER = '/Users/john/Programming/Work/patient 1068'\n",
    "\n"
   ]
  },
  {
   "cell_type": "code",
   "execution_count": null,
   "metadata": {},
   "outputs": [],
   "source": [
    "def load_scan2(path):\n",
    "    \n",
    "    lstFilesDCM = []\n",
    "\n",
    "    for dirName, subdirList, fileList in os.walk(path):\n",
    "        for filename in fileList:\n",
    "            if \".dcm\" in filename.lower():\n",
    "                lstFilesDCM.append(os.path.join(dirName,filename))\n",
    "#                 print(lstFilesDCM)\n",
    "\n",
    "    lstFilesDCM.sort()\n",
    "    return lstFilesDCM\n"
   ]
  },
  {
   "cell_type": "code",
   "execution_count": null,
   "metadata": {},
   "outputs": [],
   "source": [
    "def GetSpacing(RefDs):\n",
    "\n",
    "    #Load dimensions based on the number of rows, columns, and slices (along the Z axis)\n",
    "    ConstPixelDims = np.asarray((int(RefDs.Rows), int(RefDs.Columns), len(lstFilesDCM)+1))\n",
    "\n",
    "    #Load spacing values (in mm)\n",
    "    ConstPixelSpacing = np.asarray((float(RefDs.PixelSpacing[0]), float(RefDs.PixelSpacing[1]), float(RefDs.SliceThickness)))\n",
    "\n",
    "    print('Pixel Dimensions: {}'.format(ConstPixelDims))\n",
    "    print('Pixel Spacing:    {}'.format(ConstPixelSpacing))\n",
    "\n",
    "    # print(RefDs.elements)\n",
    "    \n",
    "    return ConstPixelDims, ConstPixelSpacing\n"
   ]
  },
  {
   "cell_type": "markdown",
   "metadata": {},
   "source": [
    "If you're interested in the measurement from 0,0,0 to any pixel, these arrays will show that. They're not currently used anywhere after this"
   ]
  },
  {
   "cell_type": "code",
   "execution_count": null,
   "metadata": {},
   "outputs": [],
   "source": [
    "def GenDimArray(ConstPixelDims, ConstPixelSpacing, doPrint=False):\n",
    "    \n",
    "    x = np.arange(0.0, (ConstPixelDims[0]+1)*ConstPixelSpacing[0], ConstPixelSpacing[0])\n",
    "    y = np.arange(0.0, (ConstPixelDims[1]+1)*ConstPixelSpacing[1], ConstPixelSpacing[1])\n",
    "    z = np.arange(0.0, (ConstPixelDims[2]+1)*ConstPixelSpacing[2], ConstPixelSpacing[2])\n",
    "\n",
    "    if doPrint:\n",
    "        print(x,y,z)\n",
    "        \n",
    "    return x, y, z"
   ]
  },
  {
   "cell_type": "code",
   "execution_count": null,
   "metadata": {},
   "outputs": [],
   "source": [
    "def ReadDICOM(ConstPixelDims, lstFilesDCM, RefDs):\n",
    "\n",
    "    # The array is sized based on 'ConstPixelDims'\n",
    "\n",
    "    newDicom = np.zeros(ConstPixelDims, dtype=RefDs.pixel_array.dtype)\n",
    "\n",
    "    # loop through all the DICOM files\n",
    "    for filenameDCM in lstFilesDCM:\n",
    "        # read the file\n",
    "        ds = pdicom.read_file(filenameDCM)\n",
    "        # Store the raw image data\n",
    "        newDicom[:, :, pdicom.read_file(filenameDCM).InstanceNumber] = ds.pixel_array\n",
    "    \n",
    "    return newDicom\n"
   ]
  },
  {
   "cell_type": "markdown",
   "metadata": {},
   "source": [
    "### Resampling\n",
    "\n",
    "Use the metadata from the DICOM calculate the size of each voxel as the slice thickness and resampled into 1x1x1 mm pixels and slices.  \n",
    "\n",
    "NOTE: When finished, the slices are normalized by subtracting off the min value of the entire stack (typically -1000)"
   ]
  },
  {
   "cell_type": "code",
   "execution_count": null,
   "metadata": {},
   "outputs": [],
   "source": [
    "def resample(image, spacing, new_spacing=[1,1,1]):\n",
    "\n",
    "    resize_factor = new_spacing / spacing\n",
    "    new_real_shape = image.shape * resize_factor\n",
    "    new_shape = np.round(new_real_shape)\n",
    "    real_resize_factor = new_shape / image.shape\n",
    "    new_spacing = spacing / real_resize_factor\n",
    "    \n",
    "    image = scipy.ndimage.interpolation.zoom(image, real_resize_factor)\n",
    "    \n",
    "    return image, new_spacing\n",
    "\n",
    "def shiftHouns(image):\n",
    "    \n",
    "    minH = np.min(image.flatten())\n",
    "    image = image - minH\n",
    "    return(image)\n"
   ]
  },
  {
   "cell_type": "markdown",
   "metadata": {},
   "source": [
    "### Read the DICOM\n",
    "\n",
    "This code sets up the segmentation code that follows by reading in the DICOM file and resizing it to 1 x 1 x 1mm."
   ]
  },
  {
   "cell_type": "code",
   "execution_count": null,
   "metadata": {},
   "outputs": [],
   "source": [
    "lstFilesDCM = load_scan2(INPUT_FOLDER)\n",
    "lstFilesDCM.sort()\n",
    "# print(lstFilesDCM)\n",
    "    \n",
    "RefDs = pdicom.read_file(lstFilesDCM[0])\n",
    "\n",
    "ConstPixelDims, ConstPixelSpacing = GetSpacing(RefDs)\n",
    "GenDimArray(ConstPixelDims, ConstPixelSpacing, False)\n",
    "\n",
    "ArrayDicom = ReadDICOM(ConstPixelDims, lstFilesDCM, RefDs)\n",
    "\n",
    "sliceNum = 100\n",
    "plti(ArrayDicom[:, :, sliceNum],10,title = \"Slice Number {}\".format(sliceNum),cmap='gray')\n",
    "\n",
    "# img_resampled, spacing = resample(ArrayDicom, ConstPixelSpacing, [1,1,1])\n",
    "\n",
    "# print(\"Slice Thickness: %f\" % ConstPixelSpacing[2])\n",
    "# print(\"Pixel Spacing (row, col): (%f, %f) \" % (ConstPixelSpacing[0], ConstPixelSpacing[1]))\n",
    "\n",
    "# print(\"Shape before resampling\\t\", ArrayDicom.shape)\n",
    "# print(\"Shape after resampling\\t\", img_resampled.shape)\n",
    "\n",
    "# img_resampled = shiftHouns(img_resampled)"
   ]
  },
  {
   "cell_type": "code",
   "execution_count": null,
   "metadata": {},
   "outputs": [],
   "source": [
    "# Scan specific values:\n",
    "\n",
    "# Pat1068\n",
    "# maskLowCutoff = 2000\n",
    "\n",
    "# Pat002\n",
    "maskLowCutoff = 500\n",
    "\n",
    "\n",
    "showSlice = 150"
   ]
  },
  {
   "cell_type": "markdown",
   "metadata": {},
   "source": [
    "### 3D Segmentation\n",
    "\n",
    "This is the same algorithm as that used for the 2D segmentation but for entire dicom stack. The primary changes are:\n",
    "* `minAreaPct` defines how small a labeled 3D area must be considered as a useful area as a percentage of the total 3D volume\n",
    "* `maxSizePct` defines how much big a labeled 3D object can be as measured by x and y dimensions as a percentage of the x and y slice dimensions\n",
    "* Upon completion, the image labels are updated to remove rejected labels."
   ]
  },
  {
   "cell_type": "code",
   "execution_count": null,
   "metadata": {},
   "outputs": [],
   "source": [
    "slice = copy.deepcopy(ArrayDicom[:, :, :])\n",
    "slice[np.where(slice > 3000)] = 0\n",
    "\n",
    "pltHist(slice)\n",
    "\n",
    "# Convert to a binary mask after stripping off all the high Hounsfield values.\n",
    "print('Hounsfield Units - Min: {:4d} Max: {:4d}'.format(np.min(slice),np.max(slice)))\n",
    "slice[np.where(slice > maskLowCutoff)] = 0\n",
    "slice[np.where(slice > 0)] = 1\n",
    "\n",
    "print('Labeling...')\n",
    "label_image = label(slice)\n",
    "\n",
    "# Limits on area and size to get rid of things too big or too small\n",
    "minAreaPct = 0.05\n",
    "totalArea = slice.shape[0] * slice.shape[1] * slice.shape[2]\n",
    "areaLimit = totalArea * minAreaPct\n",
    "maxSizePct = 0.98\n",
    "xMax = label_image.shape[0]*maxSizePct\n",
    "yMax = label_image.shape[1]*maxSizePct\n",
    "\n",
    "print('Getting initial areas')\n",
    "areas = [r.area for r in regionprops(label_image)]\n",
    "areas.sort()\n",
    "\n",
    "topAreas = 10\n",
    "print('Total areas: ',len(regionprops(label_image)))\n",
    "print('Largest {} areas: {}'.format(topAreas,areas[-topAreas:]))\n",
    "\n",
    "print('Removing small areas')\n",
    "remainingRegions = []\n",
    "for region in regionprops(label_image):\n",
    "    xLen = region.bbox[3]-region.bbox[0]\n",
    "    yLen = region.bbox[4]-region.bbox[1]\n",
    "    if region.area < areaLimit or xLen > xMax or yLen > yMax :\n",
    "        for coordinates in region.coords:\n",
    "            label_image[coordinates[0], coordinates[1], coordinates[2]] = 0\n",
    "    else:\n",
    "        remainingRegions.append(region)\n",
    "\n",
    "print('Re-indexing remaining areas')\n",
    "finalRegions = []\n",
    "areaX = []\n",
    "idx = 1\n",
    "for region in remainingRegions:\n",
    "    region.label = idx\n",
    "    finalRegions.append(region)\n",
    "    areaX.append(region.area)\n",
    "    for coordinates in region.coords:                \n",
    "        label_image[coordinates[0], coordinates[1], coordinates[2]] = idx\n",
    "    idx += 1\n",
    "\n",
    "areas = [r.area for r in finalRegions]\n",
    "print('Total remaining regions: {}'.format(len(finalRegions)))\n",
    "print('Largest {} areas: {}'.format(topAreas,areas[-topAreas:]))\n",
    "\n",
    "pltm([slice[:,:,showSlice],label_image[:,:,showSlice]],15,['Original Slice','label_image slice 1'],cmap=cmap)\n",
    "\n",
    "# stepSize = 5\n",
    "# show_image = label_image[:,:,:]\n",
    "# sample_stack(show_image, rows=int(np.ceil(show_image.shape[2]/5/stepSize)), cols=5, size=18, start_with=0, show_every=stepSize,cmap=cmap)\n",
    "\n",
    "# sample_stack(label_image, rows=6, cols=8, size=15)\n",
    "\n"
   ]
  },
  {
   "cell_type": "code",
   "execution_count": null,
   "metadata": {},
   "outputs": [],
   "source": [
    "imgMask = label_image > 0\n",
    "\n",
    "print(imgMask.shape)\n",
    "\n",
    "selem = disk(10)\n",
    "\n",
    "for i in range(imgMask.shape[2]):\n",
    "    # Closure operation with disk of radius 12\n",
    "    imgMask[:,:,i] = binary_closing(imgMask[:,:,i], selem)\n",
    "\n",
    "    # Fill in the small holes inside the lungs\n",
    "    edges = skiFilt.roberts(imgMask[:,:,i])\n",
    "    imgMask[:,:,i] = scipy.ndimage.binary_fill_holes(edges)\n",
    "\n",
    "# Superimpose the mask on the input image\n",
    "imgLung = copy.deepcopy(ArrayDicom[:, :, :])\n",
    "get_high_vals = imgMask == 0\n",
    "imgLung[get_high_vals] = 0\n"
   ]
  },
  {
   "cell_type": "code",
   "execution_count": null,
   "metadata": {},
   "outputs": [],
   "source": [
    "def fix_vector(a):\n",
    "    maxVal = a[a.argmax()]\n",
    "    a = a*0\n",
    "    a[0] = maxVal\n",
    "    return a\n",
    "\n",
    "def trimImage(x):\n",
    "\n",
    "    x= np.delete(x,np.where((~x.any(axis=1)).all(axis=1)), axis=0)\n",
    "    x= np.delete(x,np.where((~x.any(axis=2)).all(axis=1)), axis=0)\n",
    "    x= np.delete(x,np.where((~x.any(axis=0)).all(axis=1)), axis=1)\n",
    "\n",
    "    return(x)\n",
    "\n",
    "histLine = 200\n",
    "\n",
    "histSlice = copy.deepcopy(ArrayDicom[:,:,showSlice])\n",
    "histData = copy.deepcopy(histSlice[histLine,:])\n",
    "histSlice[histLine,:] = 2000\n",
    "\n",
    "imgSlice = copy.deepcopy(imgLung[:,:,showSlice])\n",
    "imgData = copy.deepcopy(imgSlice[histLine,:])\n",
    "imgSlice[histLine,:] = 2000\n",
    "\n",
    "pltm([histSlice,imgSlice],15,['Original Slice','imgLung'],cmap='gray')\n",
    "\n",
    "pltHist(imgLung)\n",
    "\n",
    "sliceThickness = 20\n",
    "thickSliceRange = copy.deepcopy(imgLung[:,:,showSlice:showSlice+sliceThickness])\n",
    "thickSliceRange = trimImage(thickSliceRange)\n",
    "thickSlice = np.apply_along_axis(fix_vector, axis=2, arr=thickSliceRange)\n",
    "\n",
    "pltm([thickSliceRange[:,:,0],thickSlice[:,:,0]],20,['Original Masked Slice','{} Slices Thick'.format(sliceThickness)],cmap='gray')\n",
    "\n"
   ]
  },
  {
   "cell_type": "code",
   "execution_count": null,
   "metadata": {},
   "outputs": [],
   "source": []
  }
 ],
 "metadata": {
  "kernelspec": {
   "display_name": "Python 3 (ipykernel)",
   "language": "python",
   "name": "python3"
  },
  "language_info": {
   "codemirror_mode": {
    "name": "ipython",
    "version": 3
   },
   "file_extension": ".py",
   "mimetype": "text/x-python",
   "name": "python",
   "nbconvert_exporter": "python",
   "pygments_lexer": "ipython3",
   "version": "3.7.9"
  }
 },
 "nbformat": 4,
 "nbformat_minor": 4
}

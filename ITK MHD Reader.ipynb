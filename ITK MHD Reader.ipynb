{
 "cells": [
  {
   "cell_type": "code",
   "execution_count": 3,
   "metadata": {},
   "outputs": [],
   "source": [
    "import SimpleITK as sitk\n",
    "import numpy as np\n",
    "import os\n",
    "import time\n",
    "\n",
    "from print_plot_routines import plti"
   ]
  },
  {
   "cell_type": "code",
   "execution_count": 5,
   "metadata": {},
   "outputs": [],
   "source": [
    "# pathname = '/Users/john/Programming/Work/AnnotatedScans/scans/'\n",
    "#inputPath  = '/Users/john/Programming/Work/AnnotatedScans/consensusAnnotations/'\n",
    "#outputPath = '/Users/john/Programming/Work/AnnotatedScans/consensusDICOM/'\n",
    "inputPath = '/Users/john/Downloads/Test Lung CTs- 45_115_562/45/'\n",
    "outputPath = '/Users/john/Downloads/Test Lung CTs- 45_115_562/45/'\n",
    "\n",
    "# inputPath  = '/Users/john/Programming/Work/AnnotatedScans/scans/'\n",
    "# outputPath = '/Users/john/Programming/Work/AnnotatedScans/scansDICOM/'\n"
   ]
  },
  {
   "cell_type": "markdown",
   "metadata": {},
   "source": [
    "## Helper Files"
   ]
  },
  {
   "cell_type": "markdown",
   "metadata": {},
   "source": [
    "#### File handling\n",
    "\n",
    "\n",
    "`load_itk` - reads an '.mhd' file using SimpleITK and returns the image array, origin, and spacing of the image.  \n",
    "`load_scan2` - scans the provided directory and returns a list of all files with the provided extension."
   ]
  },
  {
   "cell_type": "code",
   "execution_count": 6,
   "metadata": {},
   "outputs": [],
   "source": [
    "'''\n",
    "This funciton reads a '.mhd' file using SimpleITK and return the image array, origin and spacing of the image.\n",
    "'''\n",
    "\n",
    "def load_itk(filename):\n",
    "    # Reads the image using SimpleITK\n",
    "    itkimage = sitk.ReadImage(filename)\n",
    "\n",
    "    # Convert the image to a  numpy array first and then shuffle the dimensions to get axis in the order z,y,x\n",
    "    ct_scan = sitk.GetArrayFromImage(itkimage)\n",
    "\n",
    "    # Read the origin of the ct_scan, will be used to convert the coordinates from world to voxel and vice versa.\n",
    "    origin = np.array(list(reversed(itkimage.GetOrigin())))\n",
    "\n",
    "    size = itkimage.GetSize()\n",
    "    \n",
    "    # Read the spacing along each dimension\n",
    "    spacing = itkimage.GetSpacing()\n",
    "\n",
    "    return ct_scan, origin, spacing, size, itkimage"
   ]
  },
  {
   "cell_type": "code",
   "execution_count": 7,
   "metadata": {},
   "outputs": [],
   "source": [
    "def load_scan2(path,ext='.mhd'):\n",
    "    \n",
    "    lstFilesDCM = []\n",
    "\n",
    "    for dirName, subdirList, fileList in os.walk(path):\n",
    "        for filename in fileList:\n",
    "            if ext in filename.lower():\n",
    "                lstFilesDCM.append(os.path.join(dirName,filename))\n",
    "\n",
    "    lstFilesDCM.sort()\n",
    "    return lstFilesDCM\n"
   ]
  },
  {
   "cell_type": "code",
   "execution_count": 8,
   "metadata": {},
   "outputs": [],
   "source": [
    "def padStack(image,padding):\n",
    "    \n",
    "    nImage = sitk.GetArrayFromImage(image)\n",
    "    slice = nImage[0,:,:]\n",
    "\n",
    "#     print('Original Size (nImage): = {}'.format(nImage.shape))\n",
    "\n",
    "    xDelta = 512-slice.shape[0]\n",
    "    xLAdd = int(np.ceil(xDelta/2))\n",
    "    xRAdd = int(np.floor(xDelta/2))\n",
    "\n",
    "    yDelta = 512-slice.shape[1]\n",
    "    yLAdd = int(np.ceil(yDelta/2))\n",
    "    yRAdd = int(np.floor(yDelta/2))\n",
    "\n",
    "    pImage = np.lib.pad(nImage, ((0,0),(xLAdd,xRAdd),(yLAdd,yRAdd)), 'constant',constant_values=padding)\n",
    "    image = sitk.GetImageFromArray(pImage)\n",
    "\n",
    "#    print(pImage[0:10,0:10,0])\n",
    "#     print('Final size: {}'.format(image.GetSize()))\n",
    "\n",
    "    return image\n"
   ]
  },
  {
   "cell_type": "code",
   "execution_count": 9,
   "metadata": {},
   "outputs": [],
   "source": [
    "def writeSlices(series_tag_values, new_img, i, outputPath, filename):\n",
    "    image_slice = new_img[:,:,i]\n",
    "\n",
    "    # Tags shared by the series.\n",
    "    list(map(lambda tag_value: image_slice.SetMetaData(tag_value[0], tag_value[1]), series_tag_values))\n",
    "\n",
    "    # Slice specific tags.\n",
    "#     image_slice.SetMetaData(\"0008|0012\", time.strftime(\"%Y%m%d\")) # Instance Creation Date\n",
    "#     image_slice.SetMetaData(\"0008|0013\", time.strftime(\"%H%M%S\")) # Instance Creation Time\n",
    "\n",
    "    # (0020, 0032) image position patient determines the 3D spacing between slices.\n",
    "    image_slice.SetMetaData(\"0020|0032\", '\\\\'.join(map(str,new_img.TransformIndexToPhysicalPoint((0,0,i))))) # Image Position (Patient)\n",
    "    image_slice.SetMetaData(\"0020|0013\", str(i)) # Instance Number\n",
    "\n",
    "    # Write to the output directory and add the extension dcm, to force writing in DICOM format.\n",
    "    writer = sitk.ImageFileWriter()\n",
    "    # Use the study/series/frame of reference information given in the meta-data\n",
    "    # dictionary and not the automatically generated information from the file IO\n",
    "    writer.KeepOriginalImageUIDOn()\n",
    "    \n",
    "    writer.SetFileName(os.path.join(outputPath,os.path.basename(filename)+'-'+str(i)+'.dcm'))\n",
    "    writer.Execute(image_slice)\n"
   ]
  },
  {
   "cell_type": "code",
   "execution_count": 10,
   "metadata": {},
   "outputs": [],
   "source": [
    "def writeDICOM(image, outputPath, filename,patName,seriesUID,seriesDescription):\n",
    "    modification_time = time.strftime(\"%H%M%S\")\n",
    "    modification_date = time.strftime(\"%Y%m%d\")\n",
    "\n",
    "    direction = image.GetDirection()\n",
    "    \n",
    "    parts = filename.split('.')\n",
    "    description = parts[6]+'_'+ parts[-2].split('_')[-1]\n",
    "\n",
    "    series_tag_values = [\n",
    "                        (\"0008|0008\",\"DERIVED\\\\SECONDARY\"), # Image Type\n",
    "                        (\"0008|0021\",modification_date),    # Series Date\n",
    "                        (\"0008|0031\",modification_time),    # Series Time\n",
    "                        (\"0008|0060\", \"CT\"),                # Type to CT \n",
    "                        (\"0008|1030\", description),         # Series Description\n",
    "                        (\"0008|103e\", \"Created-SimpleITK\"), # Series Description\n",
    "                        (\"0010|0010\", patName),             # Patient Name\n",
    "                        (\"0010|0020\", str(parts[6])),       # Patient ID\n",
    "                        (\"0018|0050\", str(image.GetSpacing()[2])), # Series Description\n",
    "                        (\"0018|1030\", seriesDescription),   # Series Description\n",
    "                        (\"0020|000d\", \"1\"),                 # Study Instance UID\n",
    "                        (\"0020|000e\", seriesUID+modification_date+\".1\"+modification_time), # Series Instance UID\n",
    "                        (\"0020|0010\", \"123456\"),            # Study #\n",
    "                        (\"0020|0011\", \"123456\"),            # Series #\n",
    "                        (\"0020|0037\", '\\\\'.join(map(str, (direction[0], direction[3], direction[6],# Image Orientation (Patient)\n",
    "                                                        direction[1],direction[4],direction[7]))))\n",
    "                        ] \n",
    "\n",
    "    # Write slices to output directory\n",
    "    err = list(map(lambda i: writeSlices(series_tag_values, image, i,outputPath,description), range(image.GetDepth())))\n",
    "\n"
   ]
  },
  {
   "cell_type": "markdown",
   "metadata": {},
   "source": [
    "## Manipulation Routines\n",
    "\n",
    "This code gets a list of mhd files and then prints the dimensions and pixel size of each"
   ]
  },
  {
   "cell_type": "code",
   "execution_count": 11,
   "metadata": {
    "scrolled": true
   },
   "outputs": [
    {
     "name": "stdout",
     "output_type": "stream",
     "text": [
      "Total Files Found: 1\n",
      "\n",
      "    Dimensions         size                filename\n",
      "----------------- ---------------     ----------------------------------------\n"
     ]
    },
    {
     "ename": "RuntimeError",
     "evalue": "Exception thrown in SimpleITK ImageFileReader_Execute: /Users/runner/work/1/sitk/Code/IO/src/sitkImageReaderBase.cxx:105:\nsitk::ERROR: Unable to determine ImageIO reader for \"/Users/john/Downloads/Test Lung CTs- 45_115_562/45/ctvolume.mhd\"",
     "output_type": "error",
     "traceback": [
      "\u001b[0;31m---------------------------------------------------------------------------\u001b[0m",
      "\u001b[0;31mRuntimeError\u001b[0m                              Traceback (most recent call last)",
      "\u001b[0;32m<ipython-input-11-8855bd5f779a>\u001b[0m in \u001b[0;36m<module>\u001b[0;34m\u001b[0m\n\u001b[1;32m      8\u001b[0m \u001b[0mj\u001b[0m \u001b[0;34m=\u001b[0m \u001b[0;36m0\u001b[0m \u001b[0;31m# Enables saving on specified file\u001b[0m\u001b[0;34m\u001b[0m\u001b[0;34m\u001b[0m\u001b[0m\n\u001b[1;32m      9\u001b[0m \u001b[0;32mfor\u001b[0m \u001b[0mfilename\u001b[0m \u001b[0;32min\u001b[0m \u001b[0mfilelist\u001b[0m\u001b[0;34m:\u001b[0m\u001b[0;34m\u001b[0m\u001b[0;34m\u001b[0m\u001b[0m\n\u001b[0;32m---> 10\u001b[0;31m     \u001b[0mscan\u001b[0m\u001b[0;34m,\u001b[0m \u001b[0morigin\u001b[0m\u001b[0;34m,\u001b[0m \u001b[0mspacing\u001b[0m\u001b[0;34m,\u001b[0m \u001b[0msize\u001b[0m\u001b[0;34m,\u001b[0m \u001b[0mimage\u001b[0m \u001b[0;34m=\u001b[0m \u001b[0mload_itk\u001b[0m\u001b[0;34m(\u001b[0m\u001b[0mfilename\u001b[0m\u001b[0;34m)\u001b[0m\u001b[0;34m\u001b[0m\u001b[0;34m\u001b[0m\u001b[0m\n\u001b[0m\u001b[1;32m     11\u001b[0m     \u001b[0mshortname\u001b[0m \u001b[0;34m=\u001b[0m \u001b[0mfilename\u001b[0m\u001b[0;34m.\u001b[0m\u001b[0mreplace\u001b[0m\u001b[0;34m(\u001b[0m\u001b[0minputPath\u001b[0m\u001b[0;34m,\u001b[0m\u001b[0;34m''\u001b[0m\u001b[0;34m)\u001b[0m\u001b[0;34m\u001b[0m\u001b[0;34m\u001b[0m\u001b[0m\n\u001b[1;32m     12\u001b[0m \u001b[0;34m\u001b[0m\u001b[0m\n",
      "\u001b[0;32m<ipython-input-6-dd4ae4325234>\u001b[0m in \u001b[0;36mload_itk\u001b[0;34m(filename)\u001b[0m\n\u001b[1;32m      5\u001b[0m \u001b[0;32mdef\u001b[0m \u001b[0mload_itk\u001b[0m\u001b[0;34m(\u001b[0m\u001b[0mfilename\u001b[0m\u001b[0;34m)\u001b[0m\u001b[0;34m:\u001b[0m\u001b[0;34m\u001b[0m\u001b[0;34m\u001b[0m\u001b[0m\n\u001b[1;32m      6\u001b[0m     \u001b[0;31m# Reads the image using SimpleITK\u001b[0m\u001b[0;34m\u001b[0m\u001b[0;34m\u001b[0m\u001b[0;34m\u001b[0m\u001b[0m\n\u001b[0;32m----> 7\u001b[0;31m     \u001b[0mitkimage\u001b[0m \u001b[0;34m=\u001b[0m \u001b[0msitk\u001b[0m\u001b[0;34m.\u001b[0m\u001b[0mReadImage\u001b[0m\u001b[0;34m(\u001b[0m\u001b[0mfilename\u001b[0m\u001b[0;34m)\u001b[0m\u001b[0;34m\u001b[0m\u001b[0;34m\u001b[0m\u001b[0m\n\u001b[0m\u001b[1;32m      8\u001b[0m \u001b[0;34m\u001b[0m\u001b[0m\n\u001b[1;32m      9\u001b[0m     \u001b[0;31m# Convert the image to a  numpy array first and then shuffle the dimensions to get axis in the order z,y,x\u001b[0m\u001b[0;34m\u001b[0m\u001b[0;34m\u001b[0m\u001b[0;34m\u001b[0m\u001b[0m\n",
      "\u001b[0;32m~/.pyenv/versions/3.7.9/lib/python3.7/site-packages/SimpleITK/extra.py\u001b[0m in \u001b[0;36mReadImage\u001b[0;34m(fileName, outputPixelType, imageIO)\u001b[0m\n\u001b[1;32m    344\u001b[0m     \u001b[0mreader\u001b[0m\u001b[0;34m.\u001b[0m\u001b[0mSetImageIO\u001b[0m\u001b[0;34m(\u001b[0m\u001b[0mimageIO\u001b[0m\u001b[0;34m)\u001b[0m\u001b[0;34m\u001b[0m\u001b[0;34m\u001b[0m\u001b[0m\n\u001b[1;32m    345\u001b[0m     \u001b[0mreader\u001b[0m\u001b[0;34m.\u001b[0m\u001b[0mSetOutputPixelType\u001b[0m\u001b[0;34m(\u001b[0m\u001b[0moutputPixelType\u001b[0m\u001b[0;34m)\u001b[0m\u001b[0;34m\u001b[0m\u001b[0;34m\u001b[0m\u001b[0m\n\u001b[0;32m--> 346\u001b[0;31m     \u001b[0;32mreturn\u001b[0m \u001b[0mreader\u001b[0m\u001b[0;34m.\u001b[0m\u001b[0mExecute\u001b[0m\u001b[0;34m(\u001b[0m\u001b[0;34m)\u001b[0m\u001b[0;34m\u001b[0m\u001b[0;34m\u001b[0m\u001b[0m\n\u001b[0m\u001b[1;32m    347\u001b[0m \u001b[0;34m\u001b[0m\u001b[0m\n\u001b[1;32m    348\u001b[0m \u001b[0;34m\u001b[0m\u001b[0m\n",
      "\u001b[0;32m~/.pyenv/versions/3.7.9/lib/python3.7/site-packages/SimpleITK/SimpleITK.py\u001b[0m in \u001b[0;36mExecute\u001b[0;34m(self)\u001b[0m\n\u001b[1;32m   8013\u001b[0m \u001b[0;34m\u001b[0m\u001b[0m\n\u001b[1;32m   8014\u001b[0m         \"\"\"\n\u001b[0;32m-> 8015\u001b[0;31m         \u001b[0;32mreturn\u001b[0m \u001b[0m_SimpleITK\u001b[0m\u001b[0;34m.\u001b[0m\u001b[0mImageFileReader_Execute\u001b[0m\u001b[0;34m(\u001b[0m\u001b[0mself\u001b[0m\u001b[0;34m)\u001b[0m\u001b[0;34m\u001b[0m\u001b[0;34m\u001b[0m\u001b[0m\n\u001b[0m\u001b[1;32m   8016\u001b[0m \u001b[0;34m\u001b[0m\u001b[0m\n\u001b[1;32m   8017\u001b[0m     \u001b[0;32mdef\u001b[0m \u001b[0mReadImageInformation\u001b[0m\u001b[0;34m(\u001b[0m\u001b[0mself\u001b[0m\u001b[0;34m)\u001b[0m\u001b[0;34m:\u001b[0m\u001b[0;34m\u001b[0m\u001b[0;34m\u001b[0m\u001b[0m\n",
      "\u001b[0;31mRuntimeError\u001b[0m: Exception thrown in SimpleITK ImageFileReader_Execute: /Users/runner/work/1/sitk/Code/IO/src/sitkImageReaderBase.cxx:105:\nsitk::ERROR: Unable to determine ImageIO reader for \"/Users/john/Downloads/Test Lung CTs- 45_115_562/45/ctvolume.mhd\""
     ]
    }
   ],
   "source": [
    "filelist = load_scan2(inputPath)\n",
    "\n",
    "print('Total Files Found: {}\\n'.format(len(filelist)))\n",
    "print('    Dimensions         size                filename')\n",
    "print(\"-\" * 17,\"-\" * 15,' '*3,'-'*40)\n",
    "\n",
    "i = 0 # Enables padding on specified file\n",
    "j = 0 # Enables saving on specified file\n",
    "for filename in filelist:\n",
    "    scan, origin, spacing, size, image = load_itk(filename)\n",
    "    shortname = filename.replace(inputPath,'')\n",
    "\n",
    "    print('{:5.3f} {:5.3f} {:5.3f} {:4d} {:4d} {:4d}      {}'.format(*spacing,*size,shortname))\n",
    "    \n",
    "    if i < 1:\n",
    "        dScan = padStack(image,-2048)\n",
    "        dScan.SetSpacing(spacing)\n",
    "#         print(scan.shape,dScan.GetSize())\n",
    "        i += 1\n",
    "\n",
    "    if j < 1:\n",
    "        patientName = 'CARVE 12'\n",
    "        seriesUID = \"1.2.826.0.1.3680043.2.1125.\"\n",
    "        seriesDescrip = 'Padded to 512x512'\n",
    "        writeDICOM(dScan,outputPath,filename,patientName,seriesUID,seriesDescrip)\n",
    "        j = 1\n",
    "\n"
   ]
  },
  {
   "cell_type": "markdown",
   "metadata": {},
   "source": [
    "This code prints the size of the currently loaded DICOM stack and then a slice from that stack."
   ]
  },
  {
   "cell_type": "code",
   "execution_count": 90,
   "metadata": {
    "scrolled": true
   },
   "outputs": [
    {
     "name": "stdout",
     "output_type": "stream",
     "text": [
      "1.2.840.113704.1.111.1068.1103364672_consensusAnnotations.mhd\n",
      "(409, 314, 472)\n",
      "(314, 472)\n"
     ]
    },
    {
     "data": {
      "image/png": "[encoded data removed]",
      "text/plain": [
       "<Figure size 383.186x576 with 1 Axes>"
      ]
     },
     "metadata": {
      "needs_background": "light"
     },
     "output_type": "display_data"
    }
   ],
   "source": [
    "printSlice = 87\n",
    "\n",
    "print(filename)\n",
    "print(scan.shape)\n",
    "plti(scan[printSlice,:,:])\n",
    "print(scan[printSlice,:,:].shape)"
   ]
  },
  {
   "cell_type": "code",
   "execution_count": 11,
   "metadata": {},
   "outputs": [
    {
     "name": "stdout",
     "output_type": "stream",
     "text": [
      "    Dimensions         size                filename\n",
      "----------------- ---------------     ----------------------------------------\n",
      "('ITK_InputFilterName',)\n",
      "0.703 0.703 0.700  472  314  409      1.2.840.113704.1.111.1068.1103364672_consensusAnnotations.mhd\n",
      "[[0 0 0 0 0 0 0 0 0 0]\n",
      " [0 0 0 0 0 0 0 0 0 0]\n",
      " [0 0 0 0 0 0 0 0 0 0]\n",
      " [0 0 0 0 0 0 0 0 0 0]\n",
      " [0 0 0 0 0 0 0 0 0 0]\n",
      " [0 0 0 0 0 0 0 0 0 0]\n",
      " [0 0 0 0 0 0 0 0 0 0]\n",
      " [0 0 0 0 0 0 0 0 0 0]\n",
      " [0 0 0 0 0 0 0 0 0 0]\n",
      " [0 0 0 0 0 0 0 0 0 0]]\n",
      "depth: 409\n",
      "size: (512, 512, 409)\n",
      "spacing: (0.703125, 0.703125, 0.7)\n",
      "direction: (1.0, 0.0, 0.0, 0.0, 1.0, 0.0, 0.0, 0.0, 1.0)\n",
      "thickness: 0.7\n"
     ]
    },
    {
     "data": {
      "image/png": "[encoded data removed]",
      "text/plain": [
       "<Figure size 576x576 with 1 Axes>"
      ]
     },
     "metadata": {
      "needs_background": "light"
     },
     "output_type": "display_data"
    }
   ],
   "source": [
    "# pathname = '/Users/john/Programming/Work/AnnotatedScans/scans/'\n",
    "pathname = '/Users/john/Programming/Work/AnnotatedScans/consensusAnnotations/'\n",
    "\n",
    "filename = '1.2.840.113704.1.111.1068.1103364672_consensusAnnotations.mhd'\n",
    "\n",
    "print('    Dimensions         size                filename')\n",
    "print(\"-\" * 17,\"-\" * 15,' '*3,'-'*40)\n",
    "\n",
    "scan, origin, spacing, size, image = load_itk(pathname + filename)\n",
    "shortname = filename.replace(pathname,'')\n",
    "\n",
    "print(image.GetMetaDataKeys())\n",
    "print('{:5.3f} {:5.3f} {:5.3f} {:4d} {:4d} {:4d}      {}'.format(*spacing,*size,shortname))\n",
    "\n",
    "image = padStack(image,0)\n",
    "image.SetSpacing(spacing)\n",
    "\n",
    "pSlice = sitk.GetArrayFromImage(image[:,:,87])\n",
    "plti(pSlice)\n",
    "print('depth: {}'.format(image.GetDepth()))\n",
    "print('size: {}'.format(image.GetSize()))\n",
    "print('spacing: {}'.format(image.GetSpacing()))\n",
    "print('direction: {}'.format(image.GetDirection()))\n",
    "print('thickness: {}'.format(str(image.GetSpacing()[2])))"
   ]
  },
  {
   "cell_type": "code",
   "execution_count": 171,
   "metadata": {},
   "outputs": [],
   "source": [
    "modification_time = time.strftime(\"%H%M%S\")\n",
    "modification_date = time.strftime(\"%Y%m%d\")\n",
    "\n",
    "direction = image.GetDirection()\n",
    "\n",
    "parts = filename.split('.')\n",
    "description = parts[6]+'_'+ parts[-2].split('_')[-1]\n",
    "\n",
    "series_tag_values = [(\"0008|0031\",modification_time), # Series Time\n",
    "                  (\"0008|0021\",modification_date), # Series Date\n",
    "                  (\"0008|0008\",\"DERIVED\\\\SECONDARY\"), # Image Type\n",
    "                  (\"0020|000e\", \"1.2.826.0.1.3680043.2.1125.\"+modification_date+\".1\"+modification_time), # Series Instance UID\n",
    "                  (\"0020|0037\", '\\\\'.join(map(str, (direction[0], direction[3], direction[6],# Image Orientation (Patient)\n",
    "                                                    direction[1],direction[4],direction[7])))),\n",
    "                  (\"0008|1030\", description), # Series Description\n",
    "                  (\"0008|103e\", \"Created-SimpleITK\")] # Series Description\n",
    "\n",
    "# Write slices to output directory\n",
    "err = list(map(lambda i: writeSlices(series_tag_values, image, i,pathname,filename), range(image.GetDepth())))\n"
   ]
  },
  {
   "cell_type": "code",
   "execution_count": 155,
   "metadata": {},
   "outputs": [],
   "source": [
    "series_IDs = sitk.ImageSeriesReader.GetGDCMSeriesIDs(pathname)\n",
    "if not series_IDs:\n",
    "    print(\"ERROR: given directory \\\"\"+pathname+\"\\\" does not contain a DICOM series.\")\n",
    "    sys.exit(1)\n",
    "series_file_names = sitk.ImageSeriesReader.GetGDCMSeriesFileNames(pathname, series_IDs[0])\n",
    "\n",
    "series_reader = sitk.ImageSeriesReader()\n",
    "series_reader.SetFileNames(series_file_names)\n",
    "\n",
    "# Configure the reader to load all of the DICOM tags (public+private):\n",
    "# By default tags are not loaded (saves time).\n",
    "# By default if tags are loaded, the private tags are not loaded.\n",
    "# We explicitly configure the reader to load tags, including the\n",
    "# private ones.\n",
    "series_reader.LoadPrivateTagsOn()\n",
    "image3D = series_reader.Execute()\n"
   ]
  },
  {
   "cell_type": "code",
   "execution_count": 156,
   "metadata": {},
   "outputs": [
    {
     "name": "stdout",
     "output_type": "stream",
     "text": [
      "(512, 512)\n",
      "depth: 409\n",
      "size: (512, 512, 409)\n",
      "direction: (1.0, 0.0, 0.0, 0.0, 1.0, 0.0, 0.0, 0.0, 1.0)\n",
      "spacing: (0.703125, 0.703125, 0.699999988079071)\n",
      "origin: (0.0, 0.0, 0.0)\n"
     ]
    },
    {
     "data": {
      "image/png": "[encoded data removed]",
      "text/plain": [
       "<Figure size 576x576 with 1 Axes>"
      ]
     },
     "metadata": {
      "needs_background": "light"
     },
     "output_type": "display_data"
    }
   ],
   "source": [
    "pSlice = sitk.GetArrayFromImage(image3D[:,:,87])\n",
    "\n",
    "plti(pSlice)\n",
    "print(pSlice.shape)\n",
    "print('depth: {}'.format(image3D.GetDepth()))\n",
    "print('size: {}'.format(image3D.GetSize()))\n",
    "print('direction: {}'.format(image3D.GetDirection()))\n",
    "print('spacing: {}'.format(image3D.GetSpacing()))\n",
    "print('origin: {}'.format(image3D.GetOrigin()))"
   ]
  },
  {
   "cell_type": "code",
   "execution_count": 246,
   "metadata": {},
   "outputs": [
    {
     "name": "stdout",
     "output_type": "stream",
     "text": [
      "(ITK_InputFilterName) = = \"MetaImageIO\"\n"
     ]
    }
   ],
   "source": [
    "reader = sitk.ImageFileReader()\n",
    "\n",
    "reader.SetFileName( filename )\n",
    "reader.LoadPrivateTagsOn();\n",
    "\n",
    "reader.ReadImageInformation();\n",
    "\n",
    "for k in reader.GetMetaDataKeys():\n",
    "    v = reader.GetMetaData(k)\n",
    "    print(\"({0}) = = \\\"{1}\\\"\".format(k,v))\n"
   ]
  },
  {
   "cell_type": "code",
   "execution_count": 244,
   "metadata": {},
   "outputs": [
    {
     "name": "stdout",
     "output_type": "stream",
     "text": [
      "('ITK_InputFilterName',)\n",
      "<class 'SimpleITK.SimpleITK.Image'>\n"
     ]
    },
    {
     "ename": "RuntimeError",
     "evalue": "Exception thrown in SimpleITK Image_GetMetaData: /scratch/dashboard/SimpleITK-OSX10.6-x86_64-pkg/SimpleITK-build/ITK/Modules/Core/Common/src/itkMetaDataDictionary.cxx:88:\nitk::ERROR: Key '0008|0008' does not exist ",
     "output_type": "error",
     "traceback": [
      "\u001b[0;31m---------------------------------------------------------------------------\u001b[0m",
      "\u001b[0;31mRuntimeError\u001b[0m                              Traceback (most recent call last)",
      "\u001b[0;32m<ipython-input-244-f80525883604>\u001b[0m in \u001b[0;36m<module>\u001b[0;34m\u001b[0m\n\u001b[1;32m      2\u001b[0m \u001b[0mprint\u001b[0m\u001b[0;34m(\u001b[0m\u001b[0mimg\u001b[0m\u001b[0;34m.\u001b[0m\u001b[0mGetMetaDataKeys\u001b[0m\u001b[0;34m(\u001b[0m\u001b[0;34m)\u001b[0m\u001b[0;34m)\u001b[0m\u001b[0;34m\u001b[0m\u001b[0;34m\u001b[0m\u001b[0m\n\u001b[1;32m      3\u001b[0m \u001b[0mprint\u001b[0m\u001b[0;34m(\u001b[0m\u001b[0mtype\u001b[0m\u001b[0;34m(\u001b[0m\u001b[0mimg\u001b[0m\u001b[0;34m)\u001b[0m\u001b[0;34m)\u001b[0m\u001b[0;34m\u001b[0m\u001b[0;34m\u001b[0m\u001b[0m\n\u001b[0;32m----> 4\u001b[0;31m \u001b[0mimg\u001b[0m\u001b[0;34m.\u001b[0m\u001b[0mGetMetaData\u001b[0m\u001b[0;34m(\u001b[0m\u001b[0;34m\"0008|0008\"\u001b[0m\u001b[0;34m)\u001b[0m \u001b[0;34m//\u001b[0m \u001b[0mModality\u001b[0m\u001b[0;34m\u001b[0m\u001b[0;34m\u001b[0m\u001b[0m\n\u001b[0m",
      "\u001b[0;32m~/.pyenv/versions/3.7.2/lib/python3.7/site-packages/SimpleITK/SimpleITK.py\u001b[0m in \u001b[0;36mGetMetaData\u001b[0;34m(self, key)\u001b[0m\n\u001b[1;32m   4033\u001b[0m \u001b[0;34m\u001b[0m\u001b[0m\n\u001b[1;32m   4034\u001b[0m         \"\"\"\n\u001b[0;32m-> 4035\u001b[0;31m         \u001b[0;32mreturn\u001b[0m \u001b[0m_SimpleITK\u001b[0m\u001b[0;34m.\u001b[0m\u001b[0mImage_GetMetaData\u001b[0m\u001b[0;34m(\u001b[0m\u001b[0mself\u001b[0m\u001b[0;34m,\u001b[0m \u001b[0mkey\u001b[0m\u001b[0;34m)\u001b[0m\u001b[0;34m\u001b[0m\u001b[0;34m\u001b[0m\u001b[0m\n\u001b[0m\u001b[1;32m   4036\u001b[0m \u001b[0;34m\u001b[0m\u001b[0m\n\u001b[1;32m   4037\u001b[0m \u001b[0;34m\u001b[0m\u001b[0m\n",
      "\u001b[0;31mRuntimeError\u001b[0m: Exception thrown in SimpleITK Image_GetMetaData: /scratch/dashboard/SimpleITK-OSX10.6-x86_64-pkg/SimpleITK-build/ITK/Modules/Core/Common/src/itkMetaDataDictionary.cxx:88:\nitk::ERROR: Key '0008|0008' does not exist "
     ]
    }
   ],
   "source": [
    "img = sitk.ReadImage(inputPath + '1.2.840.113704.1.111.1068.1103364672.7.mhd')\n",
    "print(img.GetMetaDataKeys())\n",
    "print(type(img))\n",
    "img.GetMetaData(\"0008|0008\") // Modality\n"
   ]
  }
 ],
 "metadata": {
  "kernelspec": {
   "display_name": "Python 3",
   "language": "python",
   "name": "python3"
  },
  "language_info": {
   "codemirror_mode": {
    "name": "ipython",
    "version": 3
   },
   "file_extension": ".py",
   "mimetype": "text/x-python",
   "name": "python",
   "nbconvert_exporter": "python",
   "pygments_lexer": "ipython3",
   "version": "3.7.9"
  }
 },
 "nbformat": 4,
 "nbformat_minor": 4
}
